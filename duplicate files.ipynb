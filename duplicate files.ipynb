{
 "cells": [
  {
   "cell_type": "code",
   "execution_count": null,
   "metadata": {},
   "outputs": [],
   "source": [
    "# script to delete files containing certain strings in the filename, in my case duplicate files containing \"(2)\" \n",
    "\n",
    "import os\n",
    "import sys\n",
    "\n",
    "directory = r\"C:\\2022\"\n",
    "\n",
    "for filename in os.listdir(directory): # loop through chosen directory\n",
    "    if filename.endswith(\".jpg\") or filename.endswith(\".jpeg\"): # if the filename ends with \n",
    "        f, e = os.path.splitext(filename) # split the filename string into \n",
    "        print (f,e)\n",
    "        if str(f).__contains__(\"(2)\") == True:\n",
    "            os.remove((directory+\"\\\\\"+f+e))\n"
   ]
  },
  {
   "cell_type": "code",
   "execution_count": 8,
   "metadata": {},
   "outputs": [
    {
     "name": "stdout",
     "output_type": "stream",
     "text": [""]
    }
   ],
   "source": [
    "\n",
    "import os\n",
    "import sys\n",
    "\n",
    "directory = r\"C:\\Users\\Agent\\Music\\Musik 2023\" # massive folder with tons of music, some of which is duplicate, this script should clear that up\n",
    "titlelist = []\n",
    "for filename in os.listdir(directory): # loop through chosen directory\n",
    "        f, e = os.path.splitext(filename) # split the filename string into  \n",
    "        titlelist.append(f+e) \n",
    "        print(f,e) \n",
    "        if str(f).__contains__(\"(2)\") == True: \n",
    "            os.remove((directory+\"\\\\\"+f+e))\n",
    "        elif str(f).__contains__(\"(1)\") == True: \n",
    "            os.remove((directory+\"\\\\\"+f+e))\n",
    "        elif str(f).__contains__(\"Kopie\") == True: \n",
    "            os.remove((directory+\"\\\\\"+f+e)) \n",
    "for index, item in enumerate(titlelist): # loop through list of filenames\n",
    "    for duplicate in titlelist[index+1:]: # loop through list of filenames again, starting at the next item\n",
    "        if item == duplicate: # if the two items are the same\n",
    "            print(\"duplicates found: \", item, duplicate) # print the duplicates\n",
    "            try: # try to delete the duplicates\n",
    "                os.remove((directory+\"\\\\\"+item)) \n",
    "                os.remove((directory+\"\\\\\"+duplicate)) \n",
    "                titlelist.remove(item)\n",
    "                titlelist.remove(duplicate)\n",
    "            except:\n",
    "                print(f\"Error: {sys.exc_info()[0]}\")\n",
    "print(titlelist)"
   ]
  }
 ],
 "metadata": {
  "kernelspec": {
   "display_name": "Python 3.10.0 64-bit",
   "language": "python",
   "name": "python3"
  },
  "language_info": {
   "codemirror_mode": {
    "name": "ipython",
    "version": 3
   },
   "file_extension": ".py",
   "mimetype": "text/x-python",
   "name": "python",
   "nbconvert_exporter": "python",
   "pygments_lexer": "ipython3",
   "version": "3.11.3"
  },
  "orig_nbformat": 4,
  "vscode": {
   "interpreter": {
    "hash": "26de051ba29f2982a8de78e945f0abaf191376122a1563185a90213a26c5da77"
   }
  }
 },
 "nbformat": 4,
 "nbformat_minor": 2
}
